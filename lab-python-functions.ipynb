{
 "cells": [
  {
   "cell_type": "markdown",
   "id": "25d7736c-ba17-4aff-b6bb-66eba20fbf4e",
   "metadata": {},
   "source": [
    "# Lab | Functions"
   ]
  },
  {
   "cell_type": "markdown",
   "id": "0c581062-8967-4d93-b06e-62833222f930",
   "metadata": {
    "tags": []
   },
   "source": [
    "## Exercise: Managing Customer Orders with Functions\n",
    "\n",
    "In the previous exercise, you improved the code for managing customer orders by using loops and flow control. Now, let's take it a step further and refactor the code by introducing functions.\n",
    "\n",
    "Follow the steps below to complete the exercise:\n",
    "\n",
    "1. Define a function named `initialize_inventory` that takes `products` as a parameter. Inside the function, implement the code for initializing the inventory dictionary using a loop and user input.\n",
    "\n",
    "2. Define a function named `get_customer_orders` that takes no parameters. Inside the function, implement the code for prompting the user to enter the product names using a loop. The function should return the `customer_orders` set.\n",
    "\n",
    "3. Define a function named `update_inventory` that takes `customer_orders` and `inventory` as parameters. Inside the function, implement the code for updating the inventory dictionary based on the customer orders.\n",
    "\n",
    "4. Define a function named `calculate_order_statistics` that takes `customer_orders` and `products` as parameters. Inside the function, implement the code for calculating the order statistics (total products ordered, and percentage of unique products ordered). The function should return these values.\n",
    "\n",
    "5. Define a function named `print_order_statistics` that takes `order_statistics` as a parameter. Inside the function, implement the code for printing the order statistics.\n",
    "\n",
    "6. Define a function named `print_updated_inventory` that takes `inventory` as a parameter. Inside the function, implement the code for printing the updated inventory.\n",
    "\n",
    "7. Call the functions in the appropriate sequence to execute the program and manage customer orders.\n",
    "\n",
    "Hints for functions:\n",
    "\n",
    "- Consider the input parameters required for each function and their return values.\n",
    "- Utilize function parameters and return values to transfer data between functions.\n",
    "- Test your functions individually to ensure they work correctly.\n",
    "\n",
    "\n"
   ]
  },
  {
   "cell_type": "code",
   "execution_count": 2,
   "id": "7acdb1a4-b939-464b-b3cd-2c8fe99b354c",
   "metadata": {},
   "outputs": [],
   "source": [
    "# defining variables & more\n",
    "products = [\"t-shirt\",\"mug\",\"hat\",\"book\",\"keychain\"]\n",
    "inventory = {}\n",
    "customer_orders = set()"
   ]
  },
  {
   "cell_type": "code",
   "execution_count": 3,
   "id": "056151c5-7b97-4636-89ba-8623fa10e549",
   "metadata": {},
   "outputs": [],
   "source": [
    "# defining a function to initialize inventory\n",
    "\n",
    "def initialize_inventory(products):\n",
    "    for prod in products:\n",
    "        input_not_valid = True\n",
    "        while input_not_valid:\n",
    "            user_input = input(f\"Please insert the current inventory for {prod}\")\n",
    "            try:\n",
    "                ncheck = int(user_input)\n",
    "                inventory[prod] = ncheck\n",
    "                input_not_valid = False\n",
    "            except ValueError:\n",
    "                print(\"That's not a valid number, please input a whole number\")\n",
    "    return inventory"
   ]
  },
  {
   "cell_type": "code",
   "execution_count": 4,
   "id": "2fc956e3-06e1-47f5-9e55-1eee02945130",
   "metadata": {},
   "outputs": [
    {
     "name": "stdin",
     "output_type": "stream",
     "text": [
      "Please insert the current inventory for t-shirt 3\n",
      "Please insert the current inventory for mug 3\n",
      "Please insert the current inventory for hat 3\n",
      "Please insert the current inventory for book 3\n",
      "Please insert the current inventory for keychain 3\n"
     ]
    },
    {
     "data": {
      "text/plain": [
       "{'t-shirt': 3, 'mug': 3, 'hat': 3, 'book': 3, 'keychain': 3}"
      ]
     },
     "execution_count": 4,
     "metadata": {},
     "output_type": "execute_result"
    }
   ],
   "source": [
    "# checking that the initialize_inventory function works\n",
    "# since this is a function, that means I can work with different product lists in the same code\n",
    "#     ie, say there's the 'products' list as defined in first code block in addition to another list of products in the same code base\n",
    "initialize_inventory(products)"
   ]
  },
  {
   "cell_type": "code",
   "execution_count": 5,
   "id": "8813f8a8-1fed-47e4-a6c0-9b94e2e007ba",
   "metadata": {},
   "outputs": [],
   "source": [
    "#defining a function to get customer orders\n",
    "\n",
    "def get_customer_orders():\n",
    "    orders = \"yes\"\n",
    "\n",
    "    while orders == \"yes\":\n",
    "        item = input(\"Which of the following items would you like to order: t-shirt, mug, hat, book, or keychain?\").lower()\n",
    "        if item in products:\n",
    "            customer_orders.add(item)\n",
    "        else:\n",
    "            print(\"Input is invalid, only items from the list can be chosen\")\n",
    "        orders = input(\"Would you like to order another product, yes or no?\").lower()\n",
    "\n",
    "    print(\"Thank you, your order is complete =]\")\n",
    "    return customer_orders"
   ]
  },
  {
   "cell_type": "code",
   "execution_count": 6,
   "id": "b0079499-c5ef-45e7-a946-51da55c76b45",
   "metadata": {},
   "outputs": [
    {
     "name": "stdin",
     "output_type": "stream",
     "text": [
      "Which of the following items would you like to order: t-shirt, mug, hat, book, or keychain? mug\n",
      "Would you like to order another product, yes or no? yes\n",
      "Which of the following items would you like to order: t-shirt, mug, hat, book, or keychain? hat\n",
      "Would you like to order another product, yes or no? yes\n",
      "Which of the following items would you like to order: t-shirt, mug, hat, book, or keychain? book\n",
      "Would you like to order another product, yes or no? no\n"
     ]
    },
    {
     "name": "stdout",
     "output_type": "stream",
     "text": [
      "Thank you, your order is complete =]\n"
     ]
    },
    {
     "data": {
      "text/plain": [
       "{'book', 'hat', 'mug'}"
      ]
     },
     "execution_count": 6,
     "metadata": {},
     "output_type": "execute_result"
    }
   ],
   "source": [
    "# checking that the get_customer_orders function works\n",
    "get_customer_orders() "
   ]
  },
  {
   "cell_type": "code",
   "execution_count": 7,
   "id": "230c9c86-5b7e-4385-8267-aa7d7dd65ff2",
   "metadata": {},
   "outputs": [],
   "source": [
    "# defining a function to update the inventory\n",
    "\n",
    "def update_inventory(inventory, customer_orders):\n",
    "    for prod in products:\n",
    "        if prod in customer_orders:\n",
    "            inventory[prod]-=1"
   ]
  },
  {
   "cell_type": "code",
   "execution_count": 16,
   "id": "7be19cf7-8651-46b9-8fa4-90b42287589d",
   "metadata": {},
   "outputs": [],
   "source": [
    "# checking that the update_inventory function works & also calling it so the other functions will work\n",
    "update_inventory(inventory, customer_orders)"
   ]
  },
  {
   "cell_type": "code",
   "execution_count": 8,
   "id": "0df56ae7-4ed3-4317-9765-694ad8569926",
   "metadata": {},
   "outputs": [],
   "source": [
    "# defining a function to calculate order statistics\n",
    "\n",
    "def calculate_order_statistics(customer_orders,inventory):\n",
    "    total_order = len(customer_orders)\n",
    "    total_ratio = total_order/sum(inventory.values())\n",
    "    return total_order, total_ratio"
   ]
  },
  {
   "cell_type": "code",
   "execution_count": 9,
   "id": "8333e5e9-8278-45b9-ac43-4b1ff7225c28",
   "metadata": {},
   "outputs": [
    {
     "data": {
      "text/plain": [
       "(3, 0.2)"
      ]
     },
     "execution_count": 9,
     "metadata": {},
     "output_type": "execute_result"
    }
   ],
   "source": [
    "# checking that the calculate_order_statistics function works\n",
    "\n",
    "calculate_order_statistics(customer_orders, inventory)"
   ]
  },
  {
   "cell_type": "code",
   "execution_count": 10,
   "id": "6e124098-63a4-4a93-8ff9-3c7f536ebb74",
   "metadata": {},
   "outputs": [],
   "source": [
    "# if you want to make the total ratio look like a percentage\n",
    "\n",
    "def percentify_order_stats(customer_orders, inventory):\n",
    "    a, b = calculate_order_statistics(customer_orders, inventory)\n",
    "    return (a, f\"{int(b*100)}%\")\n",
    "\n",
    "# breakdown of what is happening here -> when working with percentages, \n",
    "# it is not good practice to force a format (eg 1% or 1 when the exact number is 0,012) cause then you can't work with it later on\n",
    "# so here is a funtion to make the values mean something more readible as a viewer of the code.\n",
    "# Since we know that calculate_order_statistics returns the two parameters customer_order & inventory,\n",
    "# we can define 2 dummy variables, a & b, to take on the function parameter output, this way can play with how to return the outcome...\n",
    "# ... to be more visual pleasing & understandable -> to explain this part: f\"{int(b*100)}%\" step by step\n",
    "# we are using a formatting string so that it can be populated by the funcion values, otherwise a normal string would 'hard code'\n",
    "#    and we have to use a string because you cannot add an integer and a string, so \"%\", together\n",
    "# we use int() because the total_ratio parameter is a float"
   ]
  },
  {
   "cell_type": "code",
   "execution_count": 11,
   "id": "9421dc70-1fc9-4ce0-8c4b-13f4dc17d88c",
   "metadata": {},
   "outputs": [
    {
     "data": {
      "text/plain": [
       "(3, '20%')"
      ]
     },
     "execution_count": 11,
     "metadata": {},
     "output_type": "execute_result"
    }
   ],
   "source": [
    "# checking that the percentify_order_stats function works\n",
    "\n",
    "percentify_order_stats(customer_orders, inventory)"
   ]
  },
  {
   "cell_type": "code",
   "execution_count": 12,
   "id": "3dfefe1a-a80c-47d3-9b70-99a9b3cd9463",
   "metadata": {},
   "outputs": [],
   "source": [
    "# defining a function to print order statistics\n",
    "\n",
    "def print_order_statistics(customer_orders, inventory):\n",
    "    var1, var2 = percentify_order_stats(customer_orders, inventory)\n",
    "    print(\"Order Statistics:\\nTotal Products Ordered:\",var1,\"\\nPercentage of Products Ordered:\",var2)\n",
    "\n",
    "#same as code block above, var1 & var2 are just placeholders for the two-variabled-output that comes from the print_order_statistics func."
   ]
  },
  {
   "cell_type": "code",
   "execution_count": 13,
   "id": "6fbd9c4d-a26e-4daf-918c-7057bd7cf90e",
   "metadata": {},
   "outputs": [
    {
     "name": "stdout",
     "output_type": "stream",
     "text": [
      "Order Statistics:\n",
      "Total Products Ordered: 3 \n",
      "Percentage of Products Ordered: 20%\n"
     ]
    }
   ],
   "source": [
    "# checking that the print_order_statistics function works\n",
    "print_order_statistics(customer_orders, inventory)"
   ]
  },
  {
   "cell_type": "code",
   "execution_count": 14,
   "id": "18f3e9e5-46cf-4792-8103-422d54471353",
   "metadata": {},
   "outputs": [],
   "source": [
    "def print_updated_inventory(inventory):\n",
    "    for quant in products:\n",
    "        print(f\"The quantity of {quant} left available is {inventory[quant]}\\n\")"
   ]
  },
  {
   "cell_type": "code",
   "execution_count": 17,
   "id": "032ba69a-61de-436b-9cdd-f66ad91d7568",
   "metadata": {},
   "outputs": [
    {
     "name": "stdout",
     "output_type": "stream",
     "text": [
      "The quantity of t-shirt left available is 3\n",
      "\n",
      "The quantity of mug left available is 2\n",
      "\n",
      "The quantity of hat left available is 2\n",
      "\n",
      "The quantity of book left available is 2\n",
      "\n",
      "The quantity of keychain left available is 3\n",
      "\n"
     ]
    }
   ],
   "source": [
    "# checking that the print_order_statistics function works\n",
    "print_updated_inventory(inventory)"
   ]
  },
  {
   "cell_type": "code",
   "execution_count": null,
   "id": "e18d125c-b838-4bc8-9e60-4f565ad5c287",
   "metadata": {},
   "outputs": [],
   "source": []
  }
 ],
 "metadata": {
  "kernelspec": {
   "display_name": "Python 3 (ipykernel)",
   "language": "python",
   "name": "python3"
  },
  "language_info": {
   "codemirror_mode": {
    "name": "ipython",
    "version": 3
   },
   "file_extension": ".py",
   "mimetype": "text/x-python",
   "name": "python",
   "nbconvert_exporter": "python",
   "pygments_lexer": "ipython3",
   "version": "3.11.9"
  }
 },
 "nbformat": 4,
 "nbformat_minor": 5
}
